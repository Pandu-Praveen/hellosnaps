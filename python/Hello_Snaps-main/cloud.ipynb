{
 "cells": [
  {
   "cell_type": "code",
   "execution_count": 1,
   "metadata": {},
   "outputs": [
    {
     "data": {
      "text/plain": [
       "<cloudinary.Config at 0x1b0360e4700>"
      ]
     },
     "execution_count": 1,
     "metadata": {},
     "output_type": "execute_result"
    }
   ],
   "source": [
    "import cloudinary\n",
    "import os\n",
    "import cloudinary.uploader\n",
    "import cloudinary.api\n",
    "cloudinary.config( \n",
    "  cloud_name = \"dn5fjw67n\", \n",
    "  api_key = \"563745582142893\", \n",
    "  api_secret = \"GqWGqqcGBwwia5xNbxI-g9oxSkw\",\n",
    "  secure = True\n",
    ")"
   ]
  },
  {
   "cell_type": "code",
   "execution_count": 3,
   "metadata": {},
   "outputs": [],
   "source": [
    "response = cloudinary.api.resources(type='upload', prefix=\"TestFolder\") # Adjust max_results as per your needs\n",
    "\n",
    "# Extract image URLs from the response\n",
    "image_urls = [(resource['secure_url'],resource['public_id']) for resource in response['resources'] if resource['resource_type'] == 'image']"
   ]
  },
  {
   "cell_type": "code",
   "execution_count": 4,
   "metadata": {},
   "outputs": [
    {
     "data": {
      "text/plain": [
       "[('https://res.cloudinary.com/dn5fjw67n/image/upload/v1713868344/TestFolder/praba_grp.jpg.jpg',\n",
       "  'TestFolder/praba_grp.jpg'),\n",
       " ('https://res.cloudinary.com/dn5fjw67n/image/upload/v1713868346/TestFolder/school_grp.jpg.jpg',\n",
       "  'TestFolder/school_grp.jpg'),\n",
       " ('https://res.cloudinary.com/dn5fjw67n/image/upload/v1714110270/TestFolder/Unique_Faces/A.jpg',\n",
       "  'TestFolder/Unique_Faces/A'),\n",
       " ('https://res.cloudinary.com/dn5fjw67n/image/upload/v1714110271/TestFolder/Unique_Faces/B.jpg',\n",
       "  'TestFolder/Unique_Faces/B'),\n",
       " ('https://res.cloudinary.com/dn5fjw67n/image/upload/v1714110272/TestFolder/Unique_Faces/C.jpg',\n",
       "  'TestFolder/Unique_Faces/C'),\n",
       " ('https://res.cloudinary.com/dn5fjw67n/image/upload/v1714110284/TestFolder/Unique_Faces/D.jpg',\n",
       "  'TestFolder/Unique_Faces/D'),\n",
       " ('https://res.cloudinary.com/dn5fjw67n/image/upload/v1714110285/TestFolder/Unique_Faces/E.jpg',\n",
       "  'TestFolder/Unique_Faces/E'),\n",
       " ('https://res.cloudinary.com/dn5fjw67n/image/upload/v1714110286/TestFolder/Unique_Faces/F.jpg',\n",
       "  'TestFolder/Unique_Faces/F'),\n",
       " ('https://res.cloudinary.com/dn5fjw67n/image/upload/v1714110288/TestFolder/Unique_Faces/G.jpg',\n",
       "  'TestFolder/Unique_Faces/G'),\n",
       " ('https://res.cloudinary.com/dn5fjw67n/image/upload/v1714110289/TestFolder/Unique_Faces/H.jpg',\n",
       "  'TestFolder/Unique_Faces/H')]"
      ]
     },
     "execution_count": 4,
     "metadata": {},
     "output_type": "execute_result"
    }
   ],
   "source": [
    "image_urls"
   ]
  },
  {
   "cell_type": "code",
   "execution_count": null,
   "metadata": {},
   "outputs": [],
   "source": []
  }
 ],
 "metadata": {
  "kernelspec": {
   "display_name": ".venv",
   "language": "python",
   "name": "python3"
  },
  "language_info": {
   "codemirror_mode": {
    "name": "ipython",
    "version": 3
   },
   "file_extension": ".py",
   "mimetype": "text/x-python",
   "name": "python",
   "nbconvert_exporter": "python",
   "pygments_lexer": "ipython3",
   "version": "3.11.5"
  }
 },
 "nbformat": 4,
 "nbformat_minor": 2
}
