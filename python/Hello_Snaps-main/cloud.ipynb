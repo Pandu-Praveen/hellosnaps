{
 "cells": [
  {
   "cell_type": "code",
   "execution_count": 16,
   "metadata": {},
   "outputs": [
    {
     "name": "stdout",
     "output_type": "stream",
     "text": [
      "Cloudinary Cloud Name: dpmpak81l\n",
      "Cloudinary API Key: 643734944575655\n",
      "Cloudinary API Secret: KQxuGOosez4WyKpzb10nEZrzTLc\n"
     ]
    },
    {
     "data": {
      "text/plain": [
       "<cloudinary.Config at 0x1f9f699b410>"
      ]
     },
     "execution_count": 16,
     "metadata": {},
     "output_type": "execute_result"
    }
   ],
   "source": [
    "import cloudinary\n",
    "import os\n",
    "import cloudinary.uploader\n",
    "import cloudinary.api\n",
    "from dotenv import load_dotenv\n",
    "load_dotenv()\n",
    "PUBLIC_CLOUDINARY_CLOUD_NAME=os.getenv(\"PUBLIC_CLOUDINARY_CLOUD_NAME\")\n",
    "PUBLIC_CLOUDINARY_API_KEY=os.getenv(\"PUBLIC_CLOUDINARY_API_KEY\")\n",
    "PUBLIC_CLOUDINARY_API_SECRET=os.getenv(\"PUBLIC_CLOUDINARY_API_SECRET\")\n",
    "print(\"Cloudinary Cloud Name:\", PUBLIC_CLOUDINARY_CLOUD_NAME)\n",
    "print(\"Cloudinary API Key:\", PUBLIC_CLOUDINARY_API_KEY)\n",
    "print(\"Cloudinary API Secret:\", PUBLIC_CLOUDINARY_API_SECRET)\n",
    "cloudinary.config( \n",
    "  cloud_name =PUBLIC_CLOUDINARY_CLOUD_NAME, \n",
    "  api_key = PUBLIC_CLOUDINARY_API_KEY, \n",
    "  api_secret = PUBLIC_CLOUDINARY_API_SECRET,\n",
    "  secure = True\n",
    ")"
   ]
  },
  {
   "cell_type": "code",
   "execution_count": 19,
   "metadata": {},
   "outputs": [
    {
     "name": "stdout",
     "output_type": "stream",
     "text": [
      "{'resources': [{'asset_id': '7e825f1df6249408791dd999fd69e16e', 'public_id': 'hellosnaps/images/gowtham-r-rlohaEy3cLOhkFFlaHWB0/gow/aznsxn7idgljrwoxybcx', 'format': 'jpg', 'version': 1721747176, 'resource_type': 'image', 'type': 'upload', 'created_at': '2024-07-23T15:06:16Z', 'bytes': 55849, 'width': 540, 'height': 1200, 'asset_folder': 'hellosnaps/images/gowtham-r-rlohaEy3cLOhkFFlaHWB0/gow', 'display_name': 'aznsxn7idgljrwoxybcx', 'url': 'http://res.cloudinary.com/dpmpak81l/image/upload/v1721747176/hellosnaps/images/gowtham-r-rlohaEy3cLOhkFFlaHWB0/gow/aznsxn7idgljrwoxybcx.jpg', 'secure_url': 'https://res.cloudinary.com/dpmpak81l/image/upload/v1721747176/hellosnaps/images/gowtham-r-rlohaEy3cLOhkFFlaHWB0/gow/aznsxn7idgljrwoxybcx.jpg'}, {'asset_id': '3485cb4de1f50cf457abefefb9809282', 'public_id': 'hellosnaps/images/gowtham-r-rlohaEy3cLOhkFFlaHWB0/gow/ehyu5sfqkogkmoomg4nl', 'format': 'jpg', 'version': 1721747184, 'resource_type': 'image', 'type': 'upload', 'created_at': '2024-07-23T15:06:24Z', 'bytes': 6171647, 'width': 3456, 'height': 4608, 'asset_folder': 'hellosnaps/images/gowtham-r-rlohaEy3cLOhkFFlaHWB0/gow', 'display_name': 'ehyu5sfqkogkmoomg4nl', 'url': 'http://res.cloudinary.com/dpmpak81l/image/upload/v1721747184/hellosnaps/images/gowtham-r-rlohaEy3cLOhkFFlaHWB0/gow/ehyu5sfqkogkmoomg4nl.jpg', 'secure_url': 'https://res.cloudinary.com/dpmpak81l/image/upload/v1721747184/hellosnaps/images/gowtham-r-rlohaEy3cLOhkFFlaHWB0/gow/ehyu5sfqkogkmoomg4nl.jpg'}, {'asset_id': '21481b90e3ff459f53f09ccf220085cf', 'public_id': 'hellosnaps/images/gowtham-r-rlohaEy3cLOhkFFlaHWB0/gow/flz9bqzpnl2mqmabicj3', 'format': 'jpg', 'version': 1721747176, 'resource_type': 'image', 'type': 'upload', 'created_at': '2024-07-23T15:06:16Z', 'bytes': 73809, 'width': 640, 'height': 1326, 'asset_folder': 'hellosnaps/images/gowtham-r-rlohaEy3cLOhkFFlaHWB0/gow', 'display_name': 'flz9bqzpnl2mqmabicj3', 'url': 'http://res.cloudinary.com/dpmpak81l/image/upload/v1721747176/hellosnaps/images/gowtham-r-rlohaEy3cLOhkFFlaHWB0/gow/flz9bqzpnl2mqmabicj3.jpg', 'secure_url': 'https://res.cloudinary.com/dpmpak81l/image/upload/v1721747176/hellosnaps/images/gowtham-r-rlohaEy3cLOhkFFlaHWB0/gow/flz9bqzpnl2mqmabicj3.jpg'}, {'asset_id': 'cc2faedbe8b56bd9acf5799df98453fb', 'public_id': 'hellosnaps/images/gowtham-r-rlohaEy3cLOhkFFlaHWB0/gow/pbg2gf7s7yiobe0xrbgo', 'format': 'jpg', 'version': 1721747176, 'resource_type': 'image', 'type': 'upload', 'created_at': '2024-07-23T15:06:16Z', 'bytes': 64355, 'width': 648, 'height': 365, 'asset_folder': 'hellosnaps/images/gowtham-r-rlohaEy3cLOhkFFlaHWB0/gow', 'display_name': 'pbg2gf7s7yiobe0xrbgo', 'url': 'http://res.cloudinary.com/dpmpak81l/image/upload/v1721747176/hellosnaps/images/gowtham-r-rlohaEy3cLOhkFFlaHWB0/gow/pbg2gf7s7yiobe0xrbgo.jpg', 'secure_url': 'https://res.cloudinary.com/dpmpak81l/image/upload/v1721747176/hellosnaps/images/gowtham-r-rlohaEy3cLOhkFFlaHWB0/gow/pbg2gf7s7yiobe0xrbgo.jpg'}]}\n",
      "resources\n"
     ]
    }
   ],
   "source": [
    "response = cloudinary.api.resources(type='upload', prefix=\"hellosnaps/images/gowtham-r-rlohaEy3cLOhkFFlaHWB0/gow\") # Adjust max_results as per your needs\n",
    "print(response)\n",
    "\n",
    "# Extract image URLs from the response\n",
    "image_urls = [(resource['secure_url'],resource['public_id']) for resource in response['resources'] if resource['resource_type'] == 'image']"
   ]
  },
  {
   "cell_type": "code",
   "execution_count": 20,
   "metadata": {},
   "outputs": [
    {
     "data": {
      "text/plain": [
       "[('https://res.cloudinary.com/dpmpak81l/image/upload/v1721747176/hellosnaps/images/gowtham-r-rlohaEy3cLOhkFFlaHWB0/gow/aznsxn7idgljrwoxybcx.jpg',\n",
       "  'hellosnaps/images/gowtham-r-rlohaEy3cLOhkFFlaHWB0/gow/aznsxn7idgljrwoxybcx'),\n",
       " ('https://res.cloudinary.com/dpmpak81l/image/upload/v1721747184/hellosnaps/images/gowtham-r-rlohaEy3cLOhkFFlaHWB0/gow/ehyu5sfqkogkmoomg4nl.jpg',\n",
       "  'hellosnaps/images/gowtham-r-rlohaEy3cLOhkFFlaHWB0/gow/ehyu5sfqkogkmoomg4nl'),\n",
       " ('https://res.cloudinary.com/dpmpak81l/image/upload/v1721747176/hellosnaps/images/gowtham-r-rlohaEy3cLOhkFFlaHWB0/gow/flz9bqzpnl2mqmabicj3.jpg',\n",
       "  'hellosnaps/images/gowtham-r-rlohaEy3cLOhkFFlaHWB0/gow/flz9bqzpnl2mqmabicj3'),\n",
       " ('https://res.cloudinary.com/dpmpak81l/image/upload/v1721747176/hellosnaps/images/gowtham-r-rlohaEy3cLOhkFFlaHWB0/gow/pbg2gf7s7yiobe0xrbgo.jpg',\n",
       "  'hellosnaps/images/gowtham-r-rlohaEy3cLOhkFFlaHWB0/gow/pbg2gf7s7yiobe0xrbgo')]"
      ]
     },
     "execution_count": 20,
     "metadata": {},
     "output_type": "execute_result"
    }
   ],
   "source": [
    "image_urls"
   ]
  },
  {
   "cell_type": "code",
   "execution_count": null,
   "metadata": {},
   "outputs": [],
   "source": []
  }
 ],
 "metadata": {
  "kernelspec": {
   "display_name": ".venv",
   "language": "python",
   "name": "python3"
  },
  "language_info": {
   "codemirror_mode": {
    "name": "ipython",
    "version": 3
   },
   "file_extension": ".py",
   "mimetype": "text/x-python",
   "name": "python",
   "nbconvert_exporter": "python",
   "pygments_lexer": "ipython3",
   "version": "3.11.5"
  }
 },
 "nbformat": 4,
 "nbformat_minor": 2
}
