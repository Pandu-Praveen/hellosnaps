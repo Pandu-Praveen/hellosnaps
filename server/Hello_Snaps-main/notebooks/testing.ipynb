{
 "cells": [
  {
   "cell_type": "code",
   "execution_count": 3,
   "metadata": {},
   "outputs": [],
   "source": [
    "import face_recognition as fr\n",
    "import matplotlib.pyplot as plt\n",
    "import cv2 as cv\n",
    "import os\n",
    "import requests\n",
    "import numpy as np\n",
    "Unique_Faces_encoding = {}\n",
    "person_count = 0\n",
    "\n",
    "meta_data ={\n",
    "}"
   ]
  },
  {
   "cell_type": "code",
   "execution_count": 4,
   "metadata": {},
   "outputs": [],
   "source": [
    "def generate_key(n):\n",
    "    result = \"\"\n",
    "    while n > 0:\n",
    "        n -= 1  # Decrease n by 1 to make modulo operation compatible with 'A' being 1 not 0\n",
    "        remainder = n % 26\n",
    "        result = chr(65 + remainder) + result\n",
    "        n = n // 26\n",
    "    return result\n",
    "\n",
    "def save_img(img,counter):\n",
    "    if not os.path.exists('Unique Faces'):\n",
    "        os.makedirs('Unique Faces')\n",
    "    \n",
    "    file_name = generate_key(counter)\n",
    "    path = \"Unique Faces/\"+file_name+\".jpg\"\n",
    "    img_bgr = cv.cvtColor(img,cv.COLOR_RGB2BGR)\n",
    "    cv.imwrite(path,img_bgr)\n",
    "    \n",
    "    return file_name\n",
    "\n",
    "def read_image_from_url(url):\n",
    "    try:\n",
    "        # Send a GET request to the URL to fetch the image\n",
    "        response = requests.get(url)\n",
    "        \n",
    "        # Check if the request was successful\n",
    "        if response.status_code == 200:\n",
    "            # Convert the response content to a numpy array\n",
    "            image_array = np.frombuffer(response.content, np.uint8)\n",
    "            # Decode the image array using OpenCV\n",
    "            image = cv.imdecode(image_array, cv.IMREAD_COLOR)\n",
    "            image_rgb = cv.cvtColor(image,cv.COLOR_BGR2RGB)\n",
    "            return image_rgb\n",
    "        else:\n",
    "            print(\"Failed to retrieve image. Status code:\", response.status_code)\n",
    "            return None\n",
    "    except Exception as e:\n",
    "        print(\"Error:\", e)\n",
    "        return None\n",
    "\n",
    "def is_unique(img_enc):\n",
    "\n",
    "    for face_enc in Unique_Faces_encoding:\n",
    "        known_face = np.array([Unique_Faces_encoding[face_enc]])\n",
    "        un_known_face = img_enc    \n",
    "\n",
    "        dis = fr.face_distance(known_face, un_known_face)\n",
    "        # print(dis)\n",
    "        if dis < 0.35:\n",
    "            return (False,face_enc)\n",
    "    \n",
    "    return (True,-1)\n"
   ]
  },
  {
   "cell_type": "code",
   "execution_count": 5,
   "metadata": {},
   "outputs": [],
   "source": [
    "def find_faces(file_name,img):\n",
    "    global person_count\n",
    "    in_persons = []\n",
    "    face_locations = fr.face_locations(img)\n",
    "    for face in face_locations:\n",
    "        top, right, bottom, left = face\n",
    "        crp_face = img[top:bottom, left:right]\n",
    "        crp_enc = fr.face_encodings(img,[face])[0]\n",
    "\n",
    "        unique , key = is_unique(crp_enc)\n",
    "        if unique:\n",
    "            person_count += 1\n",
    "            key=save_img(crp_face,person_count)\n",
    "            Unique_Faces_encoding[key] = crp_enc\n",
    "            \n",
    "        \n",
    "        in_persons.append(key)\n",
    "        if key not in meta_data:\n",
    "            meta_data[key]= []\n",
    "        \n",
    "        meta_data[key].append(file_name)\n",
    "            \n",
    "    print(person_count,in_persons)"
   ]
  },
  {
   "cell_type": "code",
   "execution_count": 1,
   "metadata": {},
   "outputs": [
    {
     "data": {
      "text/plain": [
       "<cloudinary.Config at 0x19144250310>"
      ]
     },
     "execution_count": 1,
     "metadata": {},
     "output_type": "execute_result"
    }
   ],
   "source": [
    "import cloudinary\n",
    "import os\n",
    "import cloudinary.uploader\n",
    "import cloudinary.api\n",
    "cloudinary.config( \n",
    "  cloud_name = \"dn5fjw67n\", \n",
    "  api_key = \"563745582142893\", \n",
    "  api_secret = \"GqWGqqcGBwwia5xNbxI-g9oxSkw\",\n",
    "  secure = True\n",
    ")"
   ]
  },
  {
   "cell_type": "code",
   "execution_count": 20,
   "metadata": {},
   "outputs": [],
   "source": [
    "def save_img1(filename,img,counter):\n",
    "\n",
    "    key = generate_key(counter)\n",
    "    success, encoded_image = cv.imencode('.jpg', img)\n",
    "    if success:\n",
    "    # Convert the encoded image data to bytes and upload to Cloudinary\n",
    "        img_data = encoded_image.tobytes()\n",
    "        path = filename+\"/Unique_Faces\"\n",
    "        cloudinary.uploader.upload_image(img_data,folder = path,public_id = key)\n",
    "    # return key\n"
   ]
  },
  {
   "cell_type": "code",
   "execution_count": 21,
   "metadata": {},
   "outputs": [],
   "source": [
    "img = cv.imread(r\"D:\\HelloSnaps\\notebooks\\Unique Faces\\B.jpg\")"
   ]
  },
  {
   "cell_type": "code",
   "execution_count": 22,
   "metadata": {},
   "outputs": [],
   "source": [
    "save_img1('TestFolder',img,1)"
   ]
  },
  {
   "cell_type": "code",
   "execution_count": null,
   "metadata": {},
   "outputs": [],
   "source": [
    "success, encoded_image = cv.imencode('.jpg', img_bgr)\n",
    "if success:\n",
    "    # Convert the encoded image data to bytes and upload to Cloudinary\n",
    "    image_data = encoded_image.tobytes()"
   ]
  }
 ],
 "metadata": {
  "kernelspec": {
   "display_name": ".venv",
   "language": "python",
   "name": "python3"
  },
  "language_info": {
   "codemirror_mode": {
    "name": "ipython",
    "version": 3
   },
   "file_extension": ".py",
   "mimetype": "text/x-python",
   "name": "python",
   "nbconvert_exporter": "python",
   "pygments_lexer": "ipython3",
   "version": "3.11.8"
  }
 },
 "nbformat": 4,
 "nbformat_minor": 2
}
