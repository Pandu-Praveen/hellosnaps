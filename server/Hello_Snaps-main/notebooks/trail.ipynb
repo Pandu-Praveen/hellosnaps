{
 "cells": [
  {
   "cell_type": "code",
   "execution_count": 10,
   "metadata": {},
   "outputs": [],
   "source": [
    "import json\n",
    "import requests\n",
    "import cv2 as cv\n",
    "import numpy as np\n",
    "import cloudinary\n",
    "import cloudinary.api\n",
    "import face_recognition as fr\n",
    "import os\n",
    "import matplotlib.pyplot as plt"
   ]
  },
  {
   "cell_type": "code",
   "execution_count": 19,
   "metadata": {},
   "outputs": [
    {
     "data": {
      "text/plain": [
       "<cloudinary.Config at 0x1c209448b90>"
      ]
     },
     "execution_count": 19,
     "metadata": {},
     "output_type": "execute_result"
    }
   ],
   "source": [
    "UNIQUE_FACE_ENCODINGS = {}\n",
    "cloudinary.config( \n",
    "  cloud_name = \"dn5fjw67n\", \n",
    "  api_key = \"563745582142893\", \n",
    "  api_secret = \"GqWGqqcGBwwia5xNbxI-g9oxSkw\",\n",
    "  secure = True\n",
    ")\n"
   ]
  },
  {
   "cell_type": "code",
   "execution_count": 6,
   "metadata": {},
   "outputs": [],
   "source": [
    "def read_image_from_url(url):\n",
    "    try:\n",
    "        # Send a GET request to the URL to fetch the image\n",
    "        response = requests.get(url)\n",
    "        \n",
    "        # Check if the request was successful\n",
    "        if response.status_code == 200:\n",
    "            # Convert the response content to a numpy array\n",
    "            image_array = np.frombuffer(response.content, np.uint8)\n",
    "            # Decode the image array using OpenCV\n",
    "            image = cv.imdecode(image_array, cv.IMREAD_COLOR)\n",
    "            image_rgb = cv.cvtColor(image,cv.COLOR_BGR2RGB)\n",
    "            return image_rgb\n",
    "        else:\n",
    "            print(\"Failed to retrieve image. Status code:\", response.status_code)\n",
    "            return None\n",
    "    except Exception as e:\n",
    "        print(\"Error:\", e)\n",
    "        return None"
   ]
  },
  {
   "cell_type": "code",
   "execution_count": 29,
   "metadata": {},
   "outputs": [
    {
     "data": {
      "text/plain": [
       "'TestFolder/Unique_Faces/A'"
      ]
     },
     "execution_count": 29,
     "metadata": {},
     "output_type": "execute_result"
    }
   ],
   "source": [
    "\n",
    "retrive_key(\"https://res.cloudinary.com/dn5fjw67n/image/upload/v1714191136/TestFolder/Users/testone.jpg\",\"TestFolder/Unique_Faces\")\n"
   ]
  },
  {
   "cell_type": "code",
   "execution_count": null,
   "metadata": {},
   "outputs": [],
   "source": []
  }
 ],
 "metadata": {
  "kernelspec": {
   "display_name": ".venv",
   "language": "python",
   "name": "python3"
  },
  "language_info": {
   "codemirror_mode": {
    "name": "ipython",
    "version": 3
   },
   "file_extension": ".py",
   "mimetype": "text/x-python",
   "name": "python",
   "nbconvert_exporter": "python",
   "pygments_lexer": "ipython3",
   "version": "3.11.8"
  }
 },
 "nbformat": 4,
 "nbformat_minor": 2
}
